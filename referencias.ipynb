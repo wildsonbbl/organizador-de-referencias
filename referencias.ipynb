{
 "cells": [
  {
   "cell_type": "code",
   "execution_count": 1,
   "metadata": {},
   "outputs": [],
   "source": [
    "try: \n",
    "    from googlesearch import search \n",
    "except ImportError:  \n",
    "    print(\"No module named 'google' found\") \n",
    "\n",
    "import re\n",
    "import sqlite3"
   ]
  },
  {
   "cell_type": "code",
   "execution_count": 2,
   "metadata": {},
   "outputs": [],
   "source": [
    "conn = sqlite3.connect('referencias.sqlite')\n",
    "cur = conn.cursor()"
   ]
  },
  {
   "cell_type": "code",
   "execution_count": 3,
   "metadata": {},
   "outputs": [
    {
     "data": {
      "text/plain": [
       "<sqlite3.Cursor at 0x22d2f927810>"
      ]
     },
     "execution_count": 3,
     "metadata": {},
     "output_type": "execute_result"
    }
   ],
   "source": [
    "cur.executescript('''\n",
    "CREATE TABLE IF NOT EXISTS referencias ( \n",
    "    id INTEGER NOT NULL PRIMARY KEY AUTOINCREMENT UNIQUE, \n",
    "    referencia TEXT UNIQUE\n",
    "    );\n",
    "CREATE TABLE IF NOT EXISTS titulos ( \n",
    "    id INTEGER NOT NULL PRIMARY KEY AUTOINCREMENT UNIQUE, \n",
    "    titulo TEXT,\n",
    "    referencia_id INTEGER\n",
    "    );\n",
    "CREATE TABLE IF NOT EXISTS urls ( \n",
    "    id INTEGER NOT NULL PRIMARY KEY AUTOINCREMENT UNIQUE,\n",
    "    url TEXT, \n",
    "    titulo_id INTEGER \n",
    "    );\n",
    "    ''')"
   ]
  },
  {
   "cell_type": "code",
   "execution_count": 4,
   "metadata": {},
   "outputs": [],
   "source": [
    "fhand = open('referencias para corrigir.txt','r')\n",
    "line = ''\n",
    "for text in fhand:\n",
    "    words = text.split()\n",
    "    for word in words:\n",
    "        if not re.search(\"^\\d+\\.\", word):\n",
    "            line = line + \" \" + word\n",
    "        else:\n",
    "            line = line + \" \" + word\n",
    "            line = line.strip()\n",
    "            cur.execute('''INSERT OR IGNORE INTO referencias (referencia) VALUES ( ? )''', ( line, ) )\n",
    "            cur.execute('SELECT id from referencias WHERE referencia = ?', ( line,))\n",
    "            referencia_id = cur.fetchone()[0]\n",
    "            title = re.findall('[A-Z]\\.\\s([A-Z][a-zA-Z]{2,}.+?),', line)\n",
    "            if title == []: \n",
    "                title = [line,]\n",
    "            cur.execute('INSERT OR IGNORE INTO titulos ( titulo, referencia_id ) VALUES ( ?, ? )', ( title[0], referencia_id ) )\n",
    "            cur.execute('SELECT id from titulos WHERE  titulo = ?', ( title[0], ))\n",
    "            titulo_id = cur.fetchone()[0]\n",
    "            for url in search(title[0], tld=\"com\", num=1, stop=1, pause=2):\n",
    "                cur.execute('INSERT OR IGNORE INTO urls ( url, titulo_id ) VALUES( ?, ? )', ( url, titulo_id))\n",
    "            line = ''\n",
    "conn.commit()"
   ]
  },
  {
   "cell_type": "code",
   "execution_count": 5,
   "metadata": {},
   "outputs": [
    {
     "name": "stdout",
     "output_type": "stream",
     "text": [
      "Davies, C.R.; Kaye, P.M.; Croft, S.L.; Sunda, S. Leishmaniasis: new approaches to disease control. B.M.J., v. 326, p.377–382, 2003.\n",
      "Leishmaniasis: new approaches to disease control. B.M.J.\n",
      "https://www.bmj.com/content/326/7385/377/related\n",
      "\n",
      "Ettinger, N.A.; Duggal P.; Braz, R.F.; Nascimento, E.T.; Beaty, T.H.; Jeronimo, S. M.; Pearson, R. D.; Blackwell, J. M.; Moreno, L.; Wilson, M. E. Genetic admixture in Brazilians exposed to infection with Leishmania chagasi. Ann. Hum. Genet., v. 73, p.304-313, 2009.\n",
      "Genetic admixture in Brazilians exposed to infection with Leishmania chagasi. Ann. Hum. Genet.\n",
      "https://www.ncbi.nlm.nih.gov/pmc/articles/PMC2731584/\n",
      "\n",
      "Lopes, A.M.; Magalhães, P.O.; Mazola, L,P.G.; Rangel-Yagui, C.O.; Carvalho, J.C.M.; Penna, T.C.V, Pessoa-Jr, A. LPS removal from an E. coli fermentation broth using aqueous two-phase micellar system. Biotechnol. Prog., v.26, p.1644-1653, 2010.\n",
      "LPS removal from an E. coli fermentation broth using aqueous two-phase micellar system. Biotechnol. Prog.\n",
      "https://pubmed.ncbi.nlm.nih.gov/20572295/\n",
      "\n",
      "Lowry, O.H.; Rosebrough, N.J.; Farr, A.L.; Randall, R.J. Protein measurement with the Folin phenol reagent. J. Biol. Chem., v.193, n.1, p. 265-275, 1951.\n",
      "Protein measurement with the Folin phenol reagent. J. Biol. Chem.\n",
      "https://www.jbc.org/content/193/1/265.full.pdf\n",
      "\n",
      "Magalhães, P.O.; Lopes, A.M.; Mazzola, P.G.; Rangel-Yagui, C.; Penna, T.C.; Pessoa Jr, A. Methods of endotoxin removal from biological preparations: a review. J Pharm Pharm Sci., v.10, n.3, p.388-404, 2007.\n",
      "Methods of endotoxin removal from biological preparations: a review. J Pharm Pharm Sci.\n",
      "https://pubmed.ncbi.nlm.nih.gov/17727802/\n",
      "\n",
      "Martins, D.R.A.; Jeronimo, S.M.B.; Donelson, J.E.; Wilson, M.E. Leishmania chagasi T-cell antigens identified through a double library screen. Infect. Immun., v.74, n.12, p.6940-6948, 2006.\n",
      "Leishmania chagasi T-cell antigens identified through a double library screen. Infect. Immun.\n",
      "https://iai.asm.org/content/74/12/6940\n",
      "\n",
      "Reichelt, P.; Schwarz, C.; Donzeau, M. Single step protocol to purify recombinant proteins with low endotoxin contents. Protein Expr Purif., v.46, n.2, p.483-488, 2006.\n",
      "Single step protocol to purify recombinant proteins with low endotoxin contents. Protein Expr Purif.\n",
      "https://pubmed.ncbi.nlm.nih.gov/16290005/\n",
      "\n",
      "Santos, E.S,; Guirardello, R.; Franco, T.T. Preparative chromatography of xylanase using expanded bed adsorption. J. Chromatogr. A., v.944, n.1–2, p. 217–224, 2002.\n",
      "Preparative chromatography of xylanase using expanded bed adsorption. J. Chromatogr. A.\n",
      "http://europepmc.org/abstract/med/11831756\n",
      "\n",
      "Schädlich, L.; Senger T.; Kirschning, C.J.; Müller, M.; Gissmann, L. Refining HPV 16 L1 purification from E. coli: reducing endotoxin contaminations and their impact on immunogenicity. Vaccine, v.27, n.3, p.1511-1522, 2009.\n",
      "Refining HPV 16 L1 purification from E. coli: reducing endotoxin contaminations and their impact on immunogenicity. Vaccine\n",
      "https://pubmed.ncbi.nlm.nih.gov/19174177/\n",
      "\n",
      "Sousa Junior, F.C. Recuperação e purificação do antígeno 503 usando de Leishmania i. chagasi expresso em E. coli e remoção de endotoxina usando adsorção em leito expandido. Tese de Doutorado. Programa de Pós-Graduação em Biotecnologia (RENORBIO). Universidade Federal do Rio Grande do Norte (UFRN). 147p. Natal-RN. 2015.\n",
      "Sousa Junior, F.C. Recuperação e purificação do antígeno 503 usando de Leishmania i. chagasi expresso em E. coli e remoção de endotoxina usando adsorção em leito expandido. Tese de Doutorado. Programa de Pós-Graduação em Biotecnologia (RENORBIO). Universidade Federal do Rio Grande do Norte (UFRN). 147p. Natal-RN. 2015.\n",
      "https://repositorio.ufrn.br/jspui/bitstream/123456789/20108/1/RecuperacaoPurificacaoAnt%C3%ADgeno_SousaJunior_2015.pdf\n",
      "\n",
      "Vaz, M.R.F.; França, R.L.S.; Andrade, S.S.L.; Sousa Junior, F.C.; Santos, E.S.; Martins, D.R.A.; Macedo, G.R. Influence of culture medium on the production of eif antigen from Leishmania chagasi in recombinant Escherichia coli. Braz. J. Microbiol., v. 42, n. 4, p. 1390-1396, 2011.\n",
      "Influence of culture medium on the production of eif antigen from Leishmania chagasi in recombinant Escherichia coli. Braz. J. Microbiol.\n",
      "https://www.scielo.br/scielo.php?script=sci_arttext&pid=S1517-83822011000400021&lng=en&nrm=iso\n",
      "\n",
      "Yap, W.B.; Tey, B.T.; Alitheen, N.B.; Tan, W.S. Purification of His-tagged hepatitis B core antigen from unclarified bacterial homogenate using immobilized metal affinity-expanded bed adsorption chromatography. J Chromatogr A., v.1217, n.21, p.3473-3480, 2010.\n",
      "Purification of His-tagged hepatitis B core antigen from unclarified bacterial homogenate using immobilized metal affinity-expanded bed adsorption chromatography. J Chromatogr A.\n",
      "https://pubmed.ncbi.nlm.nih.gov/20388569/\n",
      "\n",
      "Wenzig, E.; Lingg, S.; Kerzel, P.; Zeh, G.; Mersmann, A. Comparison of selected methods for downstream processing in the production of bacterial lipase. Chem. Eng. Technol., v.16, n.6, p.405-412, 1993.\n",
      "Comparison of selected methods for downstream processing in the production of bacterial lipase. Chem. Eng. Technol.\n",
      "http://onlinelibrary.wiley.com/doi/10.1002/ceat.270160609/pdf\n",
      "\n",
      "Zhang, Y.; Li, Z.; Ye, Q. Enhanced production of human epidermal growth factor under control of the phoA promoter by acetate-tolerant Escherichia coli DB15 in a Chemically defined medium. Biotechnol. Bioproc. Engin., v.15, p.626-634, 2010.\n",
      "Enhanced production of human epidermal growth factor under control of the phoA promoter by acetate-tolerant Escherichia coli DB15 in a Chemically defined medium. Biotechnol. Bioproc. Engin.\n",
      "https://link.springer.com/article/10.1007/s12257-009-3049-5\n",
      "\n"
     ]
    }
   ],
   "source": [
    "refhand = cur.execute('''\n",
    "    SELECT referencia, titulo, url \n",
    "    from urls JOIN titulos JOIN referencias \n",
    "    on referencias.id = titulos.referencia_id AND titulos.id = urls.titulo_id\n",
    "    ''')\n",
    "for referencia, titulo, url in refhand:\n",
    "    print(referencia)\n",
    "    print(titulo)\n",
    "    print(url + '\\n')\n",
    "    "
   ]
  },
  {
   "cell_type": "code",
   "execution_count": null,
   "metadata": {},
   "outputs": [],
   "source": []
  }
 ],
 "metadata": {
  "kernelspec": {
   "display_name": "Python 3",
   "language": "python",
   "name": "python3"
  },
  "language_info": {
   "codemirror_mode": {
    "name": "ipython",
    "version": 3
   },
   "file_extension": ".py",
   "mimetype": "text/x-python",
   "name": "python",
   "nbconvert_exporter": "python",
   "pygments_lexer": "ipython3",
   "version": "3.7.7"
  }
 },
 "nbformat": 4,
 "nbformat_minor": 4
}
